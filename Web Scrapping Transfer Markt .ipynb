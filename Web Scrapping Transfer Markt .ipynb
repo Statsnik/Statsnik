{
 "cells": [
  {
   "cell_type": "code",
   "execution_count": 75,
   "id": "c93e274c-d961-47ab-936a-eed4f4d2f12f",
   "metadata": {},
   "outputs": [],
   "source": [
    "import re\n",
    "import requests\n",
    "\n",
    "from bs4 import BeautifulSoup"
   ]
  },
  {
   "cell_type": "markdown",
   "id": "b33d5904-f7a3-4879-9732-82412e75573c",
   "metadata": {},
   "source": [
    "# Using CSS Selector"
   ]
  },
  {
   "cell_type": "code",
   "execution_count": 15,
   "id": "33892c7a-c3d1-413f-a638-e47b56f687b8",
   "metadata": {},
   "outputs": [],
   "source": [
    "url = \"https://www.transfermarkt.com/erling-haaland/profil/spieler/418560\"\n",
    "player_id = url.split('/') [-1] "
   ]
  },
  {
   "cell_type": "code",
   "execution_count": 17,
   "id": "a99818dd-1b58-484d-941a-0e78862a532b",
   "metadata": {},
   "outputs": [],
   "source": [
    "headers = { \n",
    "    \"User-Agent\": \"Mozilla/5.0 (Windows NT 10.0; Win64; x64) AppleWebKit/537.36 (KHTML, like Gecko) Chrome/131.0.0.0 Safari/537.36\"\n",
    "} "
   ]
  },
  {
   "cell_type": "code",
   "execution_count": 19,
   "id": "f519322d-d6e0-40b3-94b3-9e615ef474f3",
   "metadata": {},
   "outputs": [],
   "source": [
    "response =  requests.get(url, headers=headers)"
   ]
  },
  {
   "cell_type": "code",
   "execution_count": 21,
   "id": "8171c7ad-2585-48a0-aa0a-3614a3605a1a",
   "metadata": {},
   "outputs": [
    {
     "data": {
      "text/plain": [
       "200"
      ]
     },
     "execution_count": 21,
     "metadata": {},
     "output_type": "execute_result"
    }
   ],
   "source": [
    "response.status_code"
   ]
  },
  {
   "cell_type": "code",
   "execution_count": 23,
   "id": "1b50d3f7-2e18-4504-88ae-f87fe661f094",
   "metadata": {},
   "outputs": [],
   "source": [
    "Soup = BeautifulSoup(response.content, \"html.parser\")"
   ]
  },
  {
   "cell_type": "code",
   "execution_count": 39,
   "id": "d8029e62-feb1-4185-9f26-d4df77924600",
   "metadata": {},
   "outputs": [],
   "source": [
    "player_name = Soup.select_one('h1[class=\"data-header__headline-wrapper\"]').text.split('\\n')[-1].strip()"
   ]
  },
  {
   "cell_type": "code",
   "execution_count": 41,
   "id": "4d8ff59a-2c19-43f4-990e-f2e7560a388c",
   "metadata": {},
   "outputs": [
    {
     "data": {
      "text/plain": [
       "'Erling Haaland'"
      ]
     },
     "execution_count": 41,
     "metadata": {},
     "output_type": "execute_result"
    }
   ],
   "source": [
    "player_name"
   ]
  },
  {
   "cell_type": "code",
   "execution_count": 53,
   "id": "ea678202-6eea-406a-937b-d4326b1bb96a",
   "metadata": {},
   "outputs": [],
   "source": [
    "player_number= Soup.select_one('span[class=\"data-header__shirt-number\"]').text.replace('#', ' ').strip()"
   ]
  },
  {
   "cell_type": "code",
   "execution_count": 61,
   "id": "029e7017-7f3a-48e5-b3da-c4608ef54814",
   "metadata": {},
   "outputs": [
    {
     "data": {
      "text/plain": [
       "9"
      ]
     },
     "execution_count": 61,
     "metadata": {},
     "output_type": "execute_result"
    }
   ],
   "source": [
    "int (player_number)"
   ]
  },
  {
   "cell_type": "markdown",
   "id": "0491cfff-54f1-4372-b273-4402b16b05a8",
   "metadata": {},
   "source": [
    "# Using REGEx (Regular expression)"
   ]
  },
  {
   "cell_type": "code",
   "execution_count": 85,
   "id": "3645e197-4047-4d22-98b5-9e912c294608",
   "metadata": {},
   "outputs": [],
   "source": [
    "player_contract_expiry = re.search(\"Contract expires: .*...content\\\">(.*?)</span>\",str(Soup)).group(1)"
   ]
  },
  {
   "cell_type": "code",
   "execution_count": 87,
   "id": "989f0d8e-29d7-4b2d-9642-9316213f9b59",
   "metadata": {},
   "outputs": [
    {
     "data": {
      "text/plain": [
       "'Jun 30, 2034'"
      ]
     },
     "execution_count": 87,
     "metadata": {},
     "output_type": "execute_result"
    }
   ],
   "source": [
    "player_contract_expiry"
   ]
  },
  {
   "cell_type": "code",
   "execution_count": null,
   "id": "10b7a289-8895-4ed3-a69a-c4916704f5fe",
   "metadata": {},
   "outputs": [],
   "source": []
  }
 ],
 "metadata": {
  "kernelspec": {
   "display_name": "Python [conda env:base] *",
   "language": "python",
   "name": "conda-base-py"
  },
  "language_info": {
   "codemirror_mode": {
    "name": "ipython",
    "version": 3
   },
   "file_extension": ".py",
   "mimetype": "text/x-python",
   "name": "python",
   "nbconvert_exporter": "python",
   "pygments_lexer": "ipython3",
   "version": "3.11.5"
  }
 },
 "nbformat": 4,
 "nbformat_minor": 5
}
